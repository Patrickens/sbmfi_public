{
 "cells": [
  {
   "cell_type": "code",
   "execution_count": 1,
   "metadata": {},
   "outputs": [],
   "source": [
    "import sys, os, re, json\n",
    "from copy import deepcopy\n",
    "import cobra\n",
    "import pandas as pd\n",
    "from cobra.core.dictlist import DictList\n",
    "from sumoflux.settings import MODEL_DIR\n",
    "import numpy as np\n",
    "from cobra import Reaction\n",
    "display = pd.options.display\n",
    "display.max_columns = 200\n",
    "display.max_rows = 300\n",
    "display.max_colwidth = 199\n",
    "display.width = None"
   ]
  },
  {
   "cell_type": "code",
   "execution_count": 2,
   "metadata": {},
   "outputs": [
    {
     "name": "stdout",
     "output_type": "stream",
     "text": [
      "Set parameter Username\n",
      "Academic license - for non-commercial use only - expires 2022-11-12\n"
     ]
    }
   ],
   "source": [
    "core_file = os.path.join(MODEL_DIR, 'sbml', 'e_coli_core.xml')\n",
    "ijo_file = os.path.join(MODEL_DIR, 'sbml', 'iJO1366.xml')\n",
    "bwg_file = os.path.join(MODEL_DIR, 'sbml', 'iBWG_1329.xml')\n",
    "b21_file = os.path.join(MODEL_DIR, 'sbml', 'iB21_1397.xml')\n",
    "\n",
    "ijo = cobra.io.read_sbml_model(ijo_file)"
   ]
  },
  {
   "cell_type": "code",
   "execution_count": 3,
   "metadata": {},
   "outputs": [],
   "source": [
    "core = cobra.io.read_sbml_model(core_file)\n",
    "metabolites_to_add = [\n",
    "    # Entner-Doudoroff \n",
    "    '2ddg6p_c',\n",
    "    \n",
    "    # glycerol uptake \n",
    "    'glyc_e',\n",
    "    'glyc_c',\n",
    "    'glyc3p_c',\n",
    "    'dha_c',\n",
    "    'dha_e',\n",
    "    \n",
    "    # xylose uptake\n",
    "    'xyl__D_e',\n",
    "    'xyl__D_c',\n",
    "    'xylu__D_c',\n",
    "    \n",
    "    # sulfate uptake\n",
    "    'so4_e',\n",
    "    'so4_c',\n",
    "]\n",
    "\n",
    "core.add_metabolites(metabolite_list=[ijo.metabolites.get_by_id(mid).copy() for mid in metabolites_to_add])\n",
    "\n",
    "reactions_to_add0 = []\n",
    "for rid in ['GLYCtpp', 'DHAtpp', 'XYLabcpp', 'XYLt2pp', 'SO4t2pp', 'SULabcpp']:\n",
    "    reaction = ijo.reactions.get_by_id(rid).copy()\n",
    "    reaction.id = re.sub('pp$', '', rid)\n",
    "    for m in reaction.metabolites:\n",
    "        if m.compartment == 'p':\n",
    "            m.compartment = 'e'\n",
    "            met_e = core.metabolites.get_by_id(m.id.replace('_p', '_e'))\n",
    "            reaction._metabolites[met_e] = reaction._metabolites.pop(m)\n",
    "            if ('C' in met_e.elements) and (met_e in reaction.products):\n",
    "                reaction *= -1\n",
    "    reaction = reaction.copy() # otherwise the metabolite.reactions attribute is all kinds of fucked\n",
    "    reactions_to_add0.append(reaction)\n",
    "    \n",
    "reactions_to_add = [\n",
    "    'EDD', 'EDA', \n",
    "    'EX_glyc_e', 'GLYK', 'G3PD5', 'G3PD2', 'F6PA', 'GLYCDx', 'DHAPT', 'EX_dha_e', \n",
    "    'EX_xyl__D_e', 'XYLI1', 'XYLK', \n",
    "    'EX_so4_e', \n",
    "]\n",
    "\n",
    "\n",
    "core.add_reactions(reaction_list=[ijo.reactions.get_by_id(rid).copy() for rid in reactions_to_add] + reactions_to_add0)"
   ]
  },
  {
   "cell_type": "code",
   "execution_count": 4,
   "metadata": {},
   "outputs": [],
   "source": [
    "import_reaction_ids = {\n",
    "    'CO2t': 1, \n",
    "    'GLCpts': 1, \n",
    "    'FRUpts2': 1, \n",
    "    'XYLt2': 1,\n",
    "    'XYLabc': 1,\n",
    "    'SUCCt2_2': 1,\n",
    "    'SUCCt3': 1,\n",
    "    'PYRt2': 1,\n",
    "    'ACt2r': 1,\n",
    "    'D_LACt2': 1,\n",
    "    'ETOHt2r': 1,\n",
    "    'ACALDt': 1,\n",
    "    'FORt': -1,\n",
    "    'FORt2': 1,\n",
    "    'D_LACt2': 1,\n",
    "    'AKGt2r': 1,\n",
    "    'MALt2_2': 1,\n",
    "    'FUMt2_2': 1,\n",
    "    'GLNabc': 1, \n",
    "    'GLUt2r': 1,\n",
    "    'GLYCt': -1,\n",
    "    'DHAt': 1,\n",
    "}\n",
    "\n",
    "for rid, coef in import_reaction_ids.items():\n",
    "    core.reactions.get_by_id(rid).bounds = (0.0,0.0)\n",
    "\n",
    "co2 = core.reactions.get_by_id('CO2t')\n",
    "co2.bounds = (0.0, 1000.0)\n",
    "co2_out = Reaction(id='OUT_CO2t', lower_bound=0.0, upper_bound=1000.0)\n",
    "co2_out.add_metabolites({core.metabolites.get_by_id('co2_c'): -1})\n",
    "core.add_reactions(reaction_list=[co2_out])\n",
    "\n",
    "\n",
    "\n",
    "for reac in core.boundary:\n",
    "    if reac.id == 'OUT_CO2t':\n",
    "        continue\n",
    "    if reac.id == 'EX_co2_e':\n",
    "        reac.upper_bound = 0.0\n",
    "    else:\n",
    "        for m in reac.metabolites:\n",
    "            if 'C' in m.elements:\n",
    "                reac.bounds = (0.0, 0.0)"
   ]
  },
  {
   "cell_type": "code",
   "execution_count": 5,
   "metadata": {
    "tags": []
   },
   "outputs": [],
   "source": [
    "# these bounds are glucose growth!\n",
    "\n",
    "# ex = core.reactions.get_by_id('EX_glc__D_e')\n",
    "# ex.bounds = (-10.0, -10.0)\n",
    "# pts = core.reactions.get_by_id('GLCpts')\n",
    "# pts.bounds = (10.0, 10.0)\n",
    "\n",
    "bm = core.reactions.get_by_id('BIOMASS_Ecoli_core_w_GAM')\n",
    "akg = core.metabolites.get_by_id('akg_c')\n",
    "glu = core.metabolites.get_by_id('glu__L_c')\n",
    "bm -= core.reactions.get_by_id('GLUDy') * bm.metabolites[akg]\n",
    "bm._metabolites[glu] = round(bm.metabolites[glu], 4)"
   ]
  },
  {
   "cell_type": "code",
   "execution_count": 6,
   "metadata": {},
   "outputs": [
    {
     "name": "stderr",
     "output_type": "stream",
     "text": [
      "C:\\Miniconda3\\envs\\pta\\lib\\site-packages\\cobra\\util\\solver.py:554: UserWarning: Solver status is 'infeasible'.\n",
      "  warn(f\"Solver status is '{status}'.\", UserWarning)\n"
     ]
    },
    {
     "ename": "Infeasible",
     "evalue": "None (infeasible).",
     "output_type": "error",
     "traceback": [
      "\u001b[1;31m---------------------------------------------------------------------------\u001b[0m",
      "\u001b[1;31mInfeasible\u001b[0m                                Traceback (most recent call last)",
      "Input \u001b[1;32mIn [6]\u001b[0m, in \u001b[0;36m<module>\u001b[1;34m\u001b[0m\n\u001b[0;32m      1\u001b[0m core\u001b[38;5;241m.\u001b[39mobjective \u001b[38;5;241m=\u001b[39m {bm: \u001b[38;5;241m1\u001b[39m}\n\u001b[0;32m      2\u001b[0m solution \u001b[38;5;241m=\u001b[39m core\u001b[38;5;241m.\u001b[39moptimize()\n\u001b[1;32m----> 3\u001b[0m summ \u001b[38;5;241m=\u001b[39m \u001b[43mcore\u001b[49m\u001b[38;5;241;43m.\u001b[39;49m\u001b[43msummary\u001b[49m\u001b[43m(\u001b[49m\u001b[43m)\u001b[49m\n\u001b[0;32m      4\u001b[0m summ\n",
      "File \u001b[1;32mC:\\Miniconda3\\envs\\pta\\lib\\site-packages\\cobra\\core\\model.py:1211\u001b[0m, in \u001b[0;36mModel.summary\u001b[1;34m(self, solution, fva)\u001b[0m\n\u001b[0;32m   1184\u001b[0m \u001b[38;5;124;03m\"\"\"\u001b[39;00m\n\u001b[0;32m   1185\u001b[0m \u001b[38;5;124;03mCreate a summary of the exchange fluxes of the model.\u001b[39;00m\n\u001b[0;32m   1186\u001b[0m \n\u001b[1;32m   (...)\u001b[0m\n\u001b[0;32m   1207\u001b[0m \n\u001b[0;32m   1208\u001b[0m \u001b[38;5;124;03m\"\"\"\u001b[39;00m\n\u001b[0;32m   1209\u001b[0m \u001b[38;5;28;01mfrom\u001b[39;00m \u001b[38;5;21;01mcobra\u001b[39;00m\u001b[38;5;21;01m.\u001b[39;00m\u001b[38;5;21;01msummary\u001b[39;00m \u001b[38;5;28;01mimport\u001b[39;00m ModelSummary\n\u001b[1;32m-> 1211\u001b[0m \u001b[38;5;28;01mreturn\u001b[39;00m \u001b[43mModelSummary\u001b[49m\u001b[43m(\u001b[49m\u001b[43mmodel\u001b[49m\u001b[38;5;241;43m=\u001b[39;49m\u001b[38;5;28;43mself\u001b[39;49m\u001b[43m,\u001b[49m\u001b[43m \u001b[49m\u001b[43msolution\u001b[49m\u001b[38;5;241;43m=\u001b[39;49m\u001b[43msolution\u001b[49m\u001b[43m,\u001b[49m\u001b[43m \u001b[49m\u001b[43mfva\u001b[49m\u001b[38;5;241;43m=\u001b[39;49m\u001b[43mfva\u001b[49m\u001b[43m)\u001b[49m\n",
      "File \u001b[1;32mC:\\Miniconda3\\envs\\pta\\lib\\site-packages\\cobra\\summary\\model_summary.py:85\u001b[0m, in \u001b[0;36mModelSummary.__init__\u001b[1;34m(self, model, solution, fva, **kwargs)\u001b[0m\n\u001b[0;32m     83\u001b[0m \u001b[38;5;28mself\u001b[39m\u001b[38;5;241m.\u001b[39muptake_flux: Optional[pd\u001b[38;5;241m.\u001b[39mDataFrame] \u001b[38;5;241m=\u001b[39m \u001b[38;5;28;01mNone\u001b[39;00m\n\u001b[0;32m     84\u001b[0m \u001b[38;5;28mself\u001b[39m\u001b[38;5;241m.\u001b[39msecretion_flux: Optional[pd\u001b[38;5;241m.\u001b[39mDataFrame] \u001b[38;5;241m=\u001b[39m \u001b[38;5;28;01mNone\u001b[39;00m\n\u001b[1;32m---> 85\u001b[0m \u001b[38;5;28;43mself\u001b[39;49m\u001b[38;5;241;43m.\u001b[39;49m\u001b[43m_generate\u001b[49m\u001b[43m(\u001b[49m\u001b[43mmodel\u001b[49m\u001b[43m,\u001b[49m\u001b[43m \u001b[49m\u001b[43msolution\u001b[49m\u001b[43m,\u001b[49m\u001b[43m \u001b[49m\u001b[43mfva\u001b[49m\u001b[43m)\u001b[49m\n",
      "File \u001b[1;32mC:\\Miniconda3\\envs\\pta\\lib\\site-packages\\cobra\\summary\\model_summary.py:116\u001b[0m, in \u001b[0;36mModelSummary._generate\u001b[1;34m(self, model, solution, fva)\u001b[0m\n\u001b[0;32m    114\u001b[0m \u001b[38;5;28;01mif\u001b[39;00m solution \u001b[38;5;129;01mis\u001b[39;00m \u001b[38;5;28;01mNone\u001b[39;00m:\n\u001b[0;32m    115\u001b[0m     logger\u001b[38;5;241m.\u001b[39minfo(\u001b[38;5;124m\"\u001b[39m\u001b[38;5;124mGenerating new parsimonious flux distribution.\u001b[39m\u001b[38;5;124m\"\u001b[39m)\n\u001b[1;32m--> 116\u001b[0m     solution \u001b[38;5;241m=\u001b[39m \u001b[43mpfba\u001b[49m\u001b[43m(\u001b[49m\u001b[43mmodel\u001b[49m\u001b[43m)\u001b[49m\n\u001b[0;32m    118\u001b[0m \u001b[38;5;28;01mif\u001b[39;00m \u001b[38;5;28misinstance\u001b[39m(fva, \u001b[38;5;28mfloat\u001b[39m):\n\u001b[0;32m    119\u001b[0m     logger\u001b[38;5;241m.\u001b[39minfo(\u001b[38;5;124m\"\u001b[39m\u001b[38;5;124mPerforming flux variability analysis.\u001b[39m\u001b[38;5;124m\"\u001b[39m)\n",
      "File \u001b[1;32mC:\\Miniconda3\\envs\\pta\\lib\\site-packages\\cobra\\flux_analysis\\parsimonious.py:94\u001b[0m, in \u001b[0;36mpfba\u001b[1;34m(model, fraction_of_optimum, objective, reactions)\u001b[0m\n\u001b[0;32m     90\u001b[0m reactions \u001b[38;5;241m=\u001b[39m (\n\u001b[0;32m     91\u001b[0m     model\u001b[38;5;241m.\u001b[39mreactions \u001b[38;5;28;01mif\u001b[39;00m reactions \u001b[38;5;129;01mis\u001b[39;00m \u001b[38;5;28;01mNone\u001b[39;00m \u001b[38;5;28;01melse\u001b[39;00m model\u001b[38;5;241m.\u001b[39mreactions\u001b[38;5;241m.\u001b[39mget_by_any(reactions)\n\u001b[0;32m     92\u001b[0m )\n\u001b[0;32m     93\u001b[0m \u001b[38;5;28;01mwith\u001b[39;00m model \u001b[38;5;28;01mas\u001b[39;00m m:\n\u001b[1;32m---> 94\u001b[0m     \u001b[43madd_pfba\u001b[49m\u001b[43m(\u001b[49m\u001b[43mm\u001b[49m\u001b[43m,\u001b[49m\u001b[43m \u001b[49m\u001b[43mobjective\u001b[49m\u001b[38;5;241;43m=\u001b[39;49m\u001b[43mobjective\u001b[49m\u001b[43m,\u001b[49m\u001b[43m \u001b[49m\u001b[43mfraction_of_optimum\u001b[49m\u001b[38;5;241;43m=\u001b[39;49m\u001b[43mfraction_of_optimum\u001b[49m\u001b[43m)\u001b[49m\n\u001b[0;32m     95\u001b[0m     m\u001b[38;5;241m.\u001b[39mslim_optimize(error_value\u001b[38;5;241m=\u001b[39m\u001b[38;5;28;01mNone\u001b[39;00m)\n\u001b[0;32m     96\u001b[0m     solution \u001b[38;5;241m=\u001b[39m get_solution(m, reactions\u001b[38;5;241m=\u001b[39mreactions)\n",
      "File \u001b[1;32mC:\\Miniconda3\\envs\\pta\\lib\\site-packages\\cobra\\flux_analysis\\parsimonious.py:132\u001b[0m, in \u001b[0;36madd_pfba\u001b[1;34m(model, objective, fraction_of_optimum)\u001b[0m\n\u001b[0;32m    130\u001b[0m \u001b[38;5;28;01mif\u001b[39;00m model\u001b[38;5;241m.\u001b[39msolver\u001b[38;5;241m.\u001b[39mobjective\u001b[38;5;241m.\u001b[39mname \u001b[38;5;241m==\u001b[39m \u001b[38;5;124m\"\u001b[39m\u001b[38;5;124m_pfba_objective\u001b[39m\u001b[38;5;124m\"\u001b[39m:\n\u001b[0;32m    131\u001b[0m     \u001b[38;5;28;01mraise\u001b[39;00m \u001b[38;5;167;01mValueError\u001b[39;00m(\u001b[38;5;124m\"\u001b[39m\u001b[38;5;124mThe model already has a pFBA objective.\u001b[39m\u001b[38;5;124m\"\u001b[39m)\n\u001b[1;32m--> 132\u001b[0m \u001b[43msutil\u001b[49m\u001b[38;5;241;43m.\u001b[39;49m\u001b[43mfix_objective_as_constraint\u001b[49m\u001b[43m(\u001b[49m\u001b[43mmodel\u001b[49m\u001b[43m,\u001b[49m\u001b[43m \u001b[49m\u001b[43mfraction\u001b[49m\u001b[38;5;241;43m=\u001b[39;49m\u001b[43mfraction_of_optimum\u001b[49m\u001b[43m)\u001b[49m\n\u001b[0;32m    133\u001b[0m reaction_variables \u001b[38;5;241m=\u001b[39m (\n\u001b[0;32m    134\u001b[0m     (rxn\u001b[38;5;241m.\u001b[39mforward_variable, rxn\u001b[38;5;241m.\u001b[39mreverse_variable) \u001b[38;5;28;01mfor\u001b[39;00m rxn \u001b[38;5;129;01min\u001b[39;00m model\u001b[38;5;241m.\u001b[39mreactions\n\u001b[0;32m    135\u001b[0m )\n\u001b[0;32m    136\u001b[0m variables \u001b[38;5;241m=\u001b[39m chain(\u001b[38;5;241m*\u001b[39mreaction_variables)\n",
      "File \u001b[1;32mC:\\Miniconda3\\envs\\pta\\lib\\site-packages\\cobra\\util\\solver.py:513\u001b[0m, in \u001b[0;36mfix_objective_as_constraint\u001b[1;34m(model, fraction, bound, name)\u001b[0m\n\u001b[0;32m    511\u001b[0m     model\u001b[38;5;241m.\u001b[39msolver\u001b[38;5;241m.\u001b[39mremove(fix_objective_name)\n\u001b[0;32m    512\u001b[0m \u001b[38;5;28;01mif\u001b[39;00m bound \u001b[38;5;129;01mis\u001b[39;00m \u001b[38;5;28;01mNone\u001b[39;00m:\n\u001b[1;32m--> 513\u001b[0m     bound \u001b[38;5;241m=\u001b[39m \u001b[43mmodel\u001b[49m\u001b[38;5;241;43m.\u001b[39;49m\u001b[43mslim_optimize\u001b[49m\u001b[43m(\u001b[49m\u001b[43merror_value\u001b[49m\u001b[38;5;241;43m=\u001b[39;49m\u001b[38;5;28;43;01mNone\u001b[39;49;00m\u001b[43m)\u001b[49m \u001b[38;5;241m*\u001b[39m fraction\n\u001b[0;32m    514\u001b[0m \u001b[38;5;28;01mif\u001b[39;00m model\u001b[38;5;241m.\u001b[39mobjective\u001b[38;5;241m.\u001b[39mdirection \u001b[38;5;241m==\u001b[39m \u001b[38;5;124m\"\u001b[39m\u001b[38;5;124mmax\u001b[39m\u001b[38;5;124m\"\u001b[39m:\n\u001b[0;32m    515\u001b[0m     ub, lb \u001b[38;5;241m=\u001b[39m \u001b[38;5;28;01mNone\u001b[39;00m, bound\n",
      "File \u001b[1;32mC:\\Miniconda3\\envs\\pta\\lib\\site-packages\\cobra\\core\\model.py:1064\u001b[0m, in \u001b[0;36mModel.slim_optimize\u001b[1;34m(self, error_value, message)\u001b[0m\n\u001b[0;32m   1062\u001b[0m     \u001b[38;5;28;01mreturn\u001b[39;00m error_value\n\u001b[0;32m   1063\u001b[0m \u001b[38;5;28;01melse\u001b[39;00m:\n\u001b[1;32m-> 1064\u001b[0m     \u001b[43massert_optimal\u001b[49m\u001b[43m(\u001b[49m\u001b[38;5;28;43mself\u001b[39;49m\u001b[43m,\u001b[49m\u001b[43m \u001b[49m\u001b[43mmessage\u001b[49m\u001b[43m)\u001b[49m\n",
      "File \u001b[1;32mC:\\Miniconda3\\envs\\pta\\lib\\site-packages\\cobra\\util\\solver.py:590\u001b[0m, in \u001b[0;36massert_optimal\u001b[1;34m(model, message)\u001b[0m\n\u001b[0;32m    588\u001b[0m \u001b[38;5;28;01mif\u001b[39;00m status \u001b[38;5;241m!=\u001b[39m OPTIMAL:\n\u001b[0;32m    589\u001b[0m     exception_cls \u001b[38;5;241m=\u001b[39m OPTLANG_TO_EXCEPTIONS_DICT\u001b[38;5;241m.\u001b[39mget(status, OptimizationError)\n\u001b[1;32m--> 590\u001b[0m     \u001b[38;5;28;01mraise\u001b[39;00m exception_cls(\u001b[38;5;124mf\u001b[39m\u001b[38;5;124m\"\u001b[39m\u001b[38;5;132;01m{\u001b[39;00mmessage\u001b[38;5;132;01m}\u001b[39;00m\u001b[38;5;124m (\u001b[39m\u001b[38;5;132;01m{\u001b[39;00mstatus\u001b[38;5;132;01m}\u001b[39;00m\u001b[38;5;124m).\u001b[39m\u001b[38;5;124m\"\u001b[39m)\n",
      "\u001b[1;31mInfeasible\u001b[0m: None (infeasible)."
     ]
    }
   ],
   "source": [
    "core.objective = {bm: 1}\n",
    "solution = core.optimize()\n",
    "summ = core.summary()\n",
    "summ"
   ]
  },
  {
   "cell_type": "code",
   "execution_count": 7,
   "metadata": {},
   "outputs": [],
   "source": [
    "sbml_file =   os.path.join(MODEL_DIR, 'sbml', 'e_coli_core_tomek.xml')\n",
    "json_file =   os.path.join(MODEL_DIR, 'escher_input', 'model', 'e_coli_core_tomek.json')\n",
    "escher_file = os.path.join(MODEL_DIR, 'escher_input', 'map',   'e_coli_core_tomek.json')\n",
    "\n",
    "cobra.io.write_sbml_model(core, sbml_file)\n",
    "cobra.io.save_json_model(core, json_file)"
   ]
  },
  {
   "cell_type": "markdown",
   "metadata": {},
   "source": [
    "IN FLUXES        OUT FLUXES    OBJECTIVES\n",
    "---------------  ------------  ----------------------\n",
    "o2_e      21.8   h2o_e  29.2   Biomass_Ecol...  0.874\n",
    "glc__D_e  10     co2_e  22.8\n",
    "nh4_e      4.77  h_e    17.5\n",
    "pi_e       3.21"
   ]
  },
  {
   "cell_type": "code",
   "execution_count": 23,
   "metadata": {},
   "outputs": [],
   "source": [
    "# from cobra.flux_analysis import flux_variability_analysis\n",
    "# fvadf = flux_variability_analysis(core)\n",
    "# fvadf"
   ]
  },
  {
   "cell_type": "code",
   "execution_count": 24,
   "metadata": {},
   "outputs": [],
   "source": [
    "import json\n",
    "import escher\n",
    "from escher import Builder\n",
    "\n",
    "builder = Builder(\n",
    "    model_json=json_file,\n",
    "    map_json=escher_file,\n",
    "    reaction_data=solution.fluxes,\n",
    ")\n",
    "builder.save_html('e_coli_core_tomek.html')"
   ]
  }
 ],
 "metadata": {
  "hide_input": false,
  "kernelspec": {
   "display_name": "Python 3 (ipykernel)",
   "language": "python",
   "name": "python3"
  },
  "language_info": {
   "codemirror_mode": {
    "name": "ipython",
    "version": 3
   },
   "file_extension": ".py",
   "mimetype": "text/x-python",
   "name": "python",
   "nbconvert_exporter": "python",
   "pygments_lexer": "ipython3",
   "version": "3.8.13"
  }
 },
 "nbformat": 4,
 "nbformat_minor": 4
}
